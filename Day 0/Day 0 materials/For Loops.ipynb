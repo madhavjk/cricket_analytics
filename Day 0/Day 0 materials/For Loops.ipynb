{
 "cells": [
  {
   "cell_type": "code",
   "execution_count": null,
   "metadata": {},
   "outputs": [],
   "source": [
    "# i = 0; i <= 10; i++ ====> 0, 1, 2, 3, .... 10\n",
    "# i = 0; i <= 6; i = i + 2 ====> 0, 2, 4, 6"
   ]
  },
  {
   "cell_type": "code",
   "execution_count": 4,
   "metadata": {},
   "outputs": [
    {
     "name": "stdout",
     "output_type": "stream",
     "text": [
      "0.01\n"
     ]
    }
   ],
   "source": [
    "print(1/100)"
   ]
  },
  {
   "cell_type": "code",
   "execution_count": 5,
   "metadata": {},
   "outputs": [
    {
     "name": "stdout",
     "output_type": "stream",
     "text": [
      "0.02\n"
     ]
    }
   ],
   "source": [
    "print(2/100)"
   ]
  },
  {
   "cell_type": "code",
   "execution_count": 6,
   "metadata": {},
   "outputs": [
    {
     "name": "stdout",
     "output_type": "stream",
     "text": [
      "1.0\n"
     ]
    }
   ],
   "source": [
    "print(100/100)"
   ]
  },
  {
   "cell_type": "code",
   "execution_count": null,
   "metadata": {},
   "outputs": [],
   "source": [
    "# for each_page in book:\n",
    "#     print(each_page)"
   ]
  },
  {
   "cell_type": "code",
   "execution_count": null,
   "metadata": {},
   "outputs": [],
   "source": [
    "# range ==> (min, max, increment) default incr = 1, default min = 0\n",
    "# range (1, 100)  ----> 1, 2, ... 99\n",
    "# range(100) = range(0, 100, 1) ----> 0, 1, 2, ... 99\n",
    "# range(1, 101) ---> 1, 2, 3 .... 100"
   ]
  },
  {
   "cell_type": "code",
   "execution_count": null,
   "metadata": {},
   "outputs": [],
   "source": [
    "# 1, 2, ----, 100\n",
    "# 1, 1 + 2, 1 + 2 + 2, 1 + 2 + 2 + 2, \n",
    "# 1, 3, 5, 7, 9, 11, .. 99\n",
    "# range(1, 99, 2)"
   ]
  },
  {
   "cell_type": "code",
   "execution_count": 12,
   "metadata": {},
   "outputs": [],
   "source": [
    "# for i in range(1, 100, 2):\n",
    "#     print(i)"
   ]
  },
  {
   "cell_type": "code",
   "execution_count": 13,
   "metadata": {},
   "outputs": [],
   "source": [
    "players = ['Rohit', 'Rahul', 'Virat', 'Surya']"
   ]
  },
  {
   "cell_type": "code",
   "execution_count": 15,
   "metadata": {},
   "outputs": [
    {
     "name": "stdout",
     "output_type": "stream",
     "text": [
      "Rohit\n",
      "Rahul\n",
      "Virat\n",
      "Surya\n"
     ]
    }
   ],
   "source": [
    "for player in players:\n",
    "    print(player)"
   ]
  },
  {
   "cell_type": "code",
   "execution_count": 22,
   "metadata": {},
   "outputs": [],
   "source": [
    "Group_A = ['IND', 'AUS', 'BAN']\n",
    "Group_B = ['ENG', 'NZ', 'PAK', 'SL']"
   ]
  },
  {
   "cell_type": "code",
   "execution_count": 23,
   "metadata": {},
   "outputs": [],
   "source": [
    "# Problem Statement: Print the fixtures where each team in Group_A has to play each team in Group_B"
   ]
  },
  {
   "cell_type": "code",
   "execution_count": 24,
   "metadata": {},
   "outputs": [],
   "source": [
    "# Result: IND vs ENG, IND vs NZ, IND vs PAK, AUS vs ENG, .... BAN vs PAK"
   ]
  },
  {
   "cell_type": "code",
   "execution_count": 25,
   "metadata": {},
   "outputs": [
    {
     "name": "stdout",
     "output_type": "stream",
     "text": [
      "IND  vs  ENG\n",
      "IND  vs  NZ\n",
      "IND  vs  PAK\n",
      "IND  vs  SL\n",
      "AUS  vs  ENG\n",
      "AUS  vs  NZ\n",
      "AUS  vs  PAK\n",
      "AUS  vs  SL\n",
      "BAN  vs  ENG\n",
      "BAN  vs  NZ\n",
      "BAN  vs  PAK\n",
      "BAN  vs  SL\n"
     ]
    }
   ],
   "source": [
    "for team_a in Group_A:\n",
    "    for team_b in Group_B:\n",
    "        print(team_a, ' vs ', team_b)"
   ]
  },
  {
   "cell_type": "code",
   "execution_count": 20,
   "metadata": {},
   "outputs": [
    {
     "name": "stdout",
     "output_type": "stream",
     "text": [
      "ENG\n",
      "NZ\n",
      "PAK\n"
     ]
    }
   ],
   "source": [
    "for team_b in Group_B:\n",
    "    print(team_b)"
   ]
  }
 ],
 "metadata": {
  "kernelspec": {
   "display_name": "Python 3",
   "language": "python",
   "name": "python3"
  },
  "language_info": {
   "codemirror_mode": {
    "name": "ipython",
    "version": 3
   },
   "file_extension": ".py",
   "mimetype": "text/x-python",
   "name": "python",
   "nbconvert_exporter": "python",
   "pygments_lexer": "ipython3",
   "version": "3.7.6"
  }
 },
 "nbformat": 4,
 "nbformat_minor": 2
}
