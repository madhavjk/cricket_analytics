{
 "cells": [
  {
   "cell_type": "code",
   "execution_count": 4,
   "metadata": {},
   "outputs": [
    {
     "name": "stdout",
     "output_type": "stream",
     "text": [
      "Too expensive\n"
     ]
    }
   ],
   "source": [
    "# not even 150, should be 149 -> 1\n",
    "ticket_price = 100\n",
    "\n",
    "if ticket_price >= 150:\n",
    "    print('Too expensive')\n",
    "else:\n",
    "    print('Going to the movie!')"
   ]
  },
  {
   "cell_type": "code",
   "execution_count": 11,
   "metadata": {},
   "outputs": [
    {
     "name": "stdout",
     "output_type": "stream",
     "text": [
      "Going to the movie!\n"
     ]
    }
   ],
   "source": [
    "# Not going, Going, Consider\n",
    "# >= 150, [1, 125], [126, 149]\n",
    "\n",
    "# >= 150, [126, 149], [1, 125], \n",
    "\n",
    "ticket_price = 120\n",
    "\n",
    "if ticket_price >= 150:\n",
    "    print('Not Going')\n",
    "elif ticket_price > 125:\n",
    "    print(\"Consider\")\n",
    "else:\n",
    "    print('Going to the movie!')"
   ]
  },
  {
   "cell_type": "code",
   "execution_count": 12,
   "metadata": {},
   "outputs": [
    {
     "name": "stdout",
     "output_type": "stream",
     "text": [
      "Consider based on price\n",
      "Going, travel is less!\n"
     ]
    }
   ],
   "source": [
    "# Not going, Consider, Going \n",
    "# >= 150, [126, 149], [1, 125]\n",
    "\n",
    "# if price range between 126-149, look at my travel time --- if >= 30 mins \"Not Going\" else \"Go\"\n",
    "\n",
    "ticket_price = 130\n",
    "travel_time = 20\n",
    "\n",
    "if ticket_price >= 150:\n",
    "    print('Not Going')\n",
    "elif ticket_price > 125:\n",
    "    print(\"Consider based on price\")\n",
    "    if travel_time >= 30:\n",
    "        print(\"Not Going : Price & Travel\")\n",
    "    else:\n",
    "        print(\"Going, travel is less!\")\n",
    "else:\n",
    "    print('Going to the movie!')"
   ]
  }
 ],
 "metadata": {
  "kernelspec": {
   "display_name": "Python 3",
   "language": "python",
   "name": "python3"
  },
  "language_info": {
   "codemirror_mode": {
    "name": "ipython",
    "version": 3
   },
   "file_extension": ".py",
   "mimetype": "text/x-python",
   "name": "python",
   "nbconvert_exporter": "python",
   "pygments_lexer": "ipython3",
   "version": "3.7.6"
  }
 },
 "nbformat": 4,
 "nbformat_minor": 2
}
